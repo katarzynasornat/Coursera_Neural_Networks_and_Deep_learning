{
 "cells": [
  {
   "cell_type": "markdown",
   "metadata": {},
   "source": [
    "## Vectorization\n",
    "\n",
    "is shortly speaking getting rid of explicit _for_ loop in the code. In the calculations, where we have a lot of data, it can be  extremely important to have the code running faster just by doing vectorization.\n",
    "\n",
    "Below some benchmark is performed:\n",
    "\n",
    "1. Dot product implemented in numpy\n",
    "2. Traditional loop multiplication"
   ]
  },
  {
   "cell_type": "code",
   "execution_count": 19,
   "metadata": {},
   "outputs": [
    {
     "name": "stdout",
     "output_type": "stream",
     "text": [
      "249753.70456274113\n",
      "Vectorized version:0.965118408203125 ms\n"
     ]
    }
   ],
   "source": [
    "# example for one run - numpy\n",
    "\n",
    "import time\n",
    "a = np.random.rand(1000000)\n",
    "b = np.random.rand(1000000)\n",
    "c = 0\n",
    "\n",
    "tic = time.time()\n",
    "c = np.dot(a,b)\n",
    "toc = time.time()\n",
    "\n",
    "print(c)\n",
    "print(\"Vectorized version:\" + str(1000*(toc-tic)) + \" ms\")"
   ]
  },
  {
   "cell_type": "code",
   "execution_count": 20,
   "metadata": {},
   "outputs": [
    {
     "name": "stdout",
     "output_type": "stream",
     "text": [
      "249753.70456274686\n",
      "Loop version:479.0365695953369 ms\n"
     ]
    }
   ],
   "source": [
    "# example of one run - loop\n",
    "c = 0\n",
    "tic = time.time()\n",
    "for i in range(1000000):\n",
    "    c+=a[i]*b[i]\n",
    "toc = time.time()\n",
    "\n",
    "print(c)\n",
    "print(\"Loop version:\" + str(1000*(toc-tic)) + \" ms\")"
   ]
  },
  {
   "cell_type": "code",
   "execution_count": 31,
   "metadata": {},
   "outputs": [],
   "source": [
    "# functions to perform a simulation because the timing can vary and we want to compare the distribution of a time\n",
    "\n",
    "def numpy_dot_product(sim_number):\n",
    "    results_list = []\n",
    "    \n",
    "    for i in range(sim_number):\n",
    "        np.random.seed(i)\n",
    "        a = np.random.rand(1000000)\n",
    "        b = np.random.rand(1000000)\n",
    "        c = 0\n",
    "\n",
    "        tic = time.time()\n",
    "        c = np.dot(a,b)\n",
    "        toc = time.time()\n",
    "        \n",
    "        results_list.append(1000*(toc-tic))\n",
    "    \n",
    "    return results_list"
   ]
  },
  {
   "cell_type": "code",
   "execution_count": null,
   "metadata": {},
   "outputs": [],
   "source": [
    "def loop_product(sim_number):\n",
    "    results_list = []\n",
    "    \n",
    "    for i in range(sim_number):\n",
    "        np.random.seed(i)\n",
    "        a = np.random.rand(1000000)\n",
    "        b = np.random.rand(1000000)\n",
    "        c = 0\n",
    "\n",
    "        tic = time.time()\n",
    "        for j in range(1000000):\n",
    "            c+=a[j]*b[j]\n",
    "        toc = time.time()\n",
    "        \n",
    "        results_list.append(1000*(toc-tic))\n",
    "    \n",
    "    return results_list"
   ]
  },
  {
   "cell_type": "code",
   "execution_count": 32,
   "metadata": {},
   "outputs": [],
   "source": [
    "numpy_list = numpy_dot_product(1000)"
   ]
  },
  {
   "cell_type": "code",
   "execution_count": 36,
   "metadata": {},
   "outputs": [],
   "source": [
    "loop_list = loop_product(1000)"
   ]
  },
  {
   "cell_type": "code",
   "execution_count": 40,
   "metadata": {},
   "outputs": [],
   "source": [
    "import pandas as pd\n",
    "results = pd.DataFrame({'numpy_dot': numpy_list\n",
    "                        ,'loop': loop_list})"
   ]
  },
  {
   "cell_type": "markdown",
   "metadata": {},
   "source": [
    "What can be seen is that after running 1000 simulations, the average time of numpy arrays mutliplication using _dot_ function is much smaller than using traditional loop element by element multiplication. We see that average time for loop approach is more than 400 times slower."
   ]
  },
  {
   "cell_type": "code",
   "execution_count": 45,
   "metadata": {},
   "outputs": [
    {
     "data": {
      "text/plain": [
       "Text(0.5, 0, 'Time of vectors multiplication in ms')"
      ]
     },
     "execution_count": 45,
     "metadata": {},
     "output_type": "execute_result"
    },
    {
     "data": {
      "image/png": "[encoded data removed]",
      "text/plain": [
       "<Figure size 432x288 with 1 Axes>"
      ]
     },
     "metadata": {
      "needs_background": "light"
     },
     "output_type": "display_data"
    }
   ],
   "source": [
    "results.plot.hist(bins=100, alpha=0.5).set_xlabel(\"Time of vectors multiplication in ms\")"
   ]
  },
  {
   "cell_type": "code",
   "execution_count": 49,
   "metadata": {},
   "outputs": [
    {
     "name": "stdout",
     "output_type": "stream",
     "text": [
      "Numpy avg time:1.1552417278289795\n",
      "Loop avg time:414.22988176345825\n"
     ]
    }
   ],
   "source": [
    "print(\"Numpy avg time:\" + str(np.average(numpy_list)))\n",
    "print(\"Loop avg time:\" + str(np.average(loop_list)))"
   ]
  }
 ],
 "metadata": {
  "kernelspec": {
   "display_name": "Python 3",
   "language": "python",
   "name": "python3"
  },
  "language_info": {
   "codemirror_mode": {
    "name": "ipython",
    "version": 3
   },
   "file_extension": ".py",
   "mimetype": "text/x-python",
   "name": "python",
   "nbconvert_exporter": "python",
   "pygments_lexer": "ipython3",
   "version": "3.7.2"
  }
 },
 "nbformat": 4,
 "nbformat_minor": 4
}
